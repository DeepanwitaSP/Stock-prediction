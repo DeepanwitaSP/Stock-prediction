{
  "nbformat": 4,
  "nbformat_minor": 0,
  "metadata": {
    "colab": {
      "provenance": []
    },
    "kernelspec": {
      "name": "python3",
      "display_name": "Python 3"
    },
    "language_info": {
      "name": "python"
    }
  },
  "cells": [
    {
      "cell_type": "markdown",
      "source": [
        "Import all the libraries required Numpy for mathematical computing, pandas for data analyzing, seaborn & matplotlib for plotting and visualization of data and keras for neural network modelling."
      ],
      "metadata": {
        "id": "Wsl0GnBsA_bF"
      }
    },
    {
      "cell_type": "code",
      "source": [
        "import numpy as np\n",
        "import pandas as pd\n",
        "import seaborn as sns\n",
        "import matplotlib.pylab as plt\n",
        "import keras\n",
        "from sklearn.model_selection import train_test_split\n",
        "from sklearn.preprocessing import MinMaxScaler\n",
        "from keras.models import Sequential\n",
        "from keras.layers import Dense, LSTM, Dropout\n",
        "import warnings\n",
        "warnings.filterwarnings('ignore')"
      ],
      "metadata": {
        "id": "UyoDhXhvm8XZ"
      },
      "execution_count": 134,
      "outputs": []
    },
    {
      "cell_type": "markdown",
      "source": [
        "Utilising the pandas library to load the data set and obtain the necessary details, such as the dataset's shape, maximum and minimum values, etc. The data will first be divided into training and test data, and the training data will be used to train the model."
      ],
      "metadata": {
        "id": "lhjgT4zqB-K9"
      }
    },
    {
      "cell_type": "code",
      "source": [
        "train_data = pd.read_csv('Google_Stock_Price_Train.csv')"
      ],
      "metadata": {
        "id": "WASwVqEqxa80"
      },
      "execution_count": 124,
      "outputs": []
    },
    {
      "cell_type": "code",
      "source": [
        "training_data, test_data = train_test_split(train_data, test_size=0.2, shuffle=False)"
      ],
      "metadata": {
        "id": "0ddXB2FtxaGF"
      },
      "execution_count": 125,
      "outputs": []
    },
    {
      "cell_type": "code",
      "source": [
        "training_data.shape"
      ],
      "metadata": {
        "colab": {
          "base_uri": "https://localhost:8080/"
        },
        "id": "0UAmPDxWnA6T",
        "outputId": "f62ad6b7-020d-436a-f1c8-4c7e9c942955"
      },
      "execution_count": 126,
      "outputs": [
        {
          "output_type": "execute_result",
          "data": {
            "text/plain": [
              "(1006, 6)"
            ]
          },
          "metadata": {},
          "execution_count": 126
        }
      ]
    },
    {
      "cell_type": "code",
      "source": [
        "training_data.head()"
      ],
      "metadata": {
        "colab": {
          "base_uri": "https://localhost:8080/",
          "height": 206
        },
        "id": "0FsL39lDnA9I",
        "outputId": "173f4c20-b07e-4799-fd9f-40486aa4478e"
      },
      "execution_count": 127,
      "outputs": [
        {
          "output_type": "execute_result",
          "data": {
            "text/plain": [
              "       Date    Open    High     Low   Close      Volume\n",
              "0  1/3/2012  325.25  332.83  324.97  663.59   7,380,500\n",
              "1  1/4/2012  331.27  333.87  329.08  666.45   5,749,400\n",
              "2  1/5/2012  329.83  330.75  326.89  657.21   6,590,300\n",
              "3  1/6/2012  328.34  328.77  323.68  648.24   5,405,900\n",
              "4  1/9/2012  322.04  322.29  309.46  620.76  11,688,800"
            ],
            "text/html": [
              "\n",
              "  <div id=\"df-25f10587-05d3-4a3a-9ddb-90393631b234\">\n",
              "    <div class=\"colab-df-container\">\n",
              "      <div>\n",
              "<style scoped>\n",
              "    .dataframe tbody tr th:only-of-type {\n",
              "        vertical-align: middle;\n",
              "    }\n",
              "\n",
              "    .dataframe tbody tr th {\n",
              "        vertical-align: top;\n",
              "    }\n",
              "\n",
              "    .dataframe thead th {\n",
              "        text-align: right;\n",
              "    }\n",
              "</style>\n",
              "<table border=\"1\" class=\"dataframe\">\n",
              "  <thead>\n",
              "    <tr style=\"text-align: right;\">\n",
              "      <th></th>\n",
              "      <th>Date</th>\n",
              "      <th>Open</th>\n",
              "      <th>High</th>\n",
              "      <th>Low</th>\n",
              "      <th>Close</th>\n",
              "      <th>Volume</th>\n",
              "    </tr>\n",
              "  </thead>\n",
              "  <tbody>\n",
              "    <tr>\n",
              "      <th>0</th>\n",
              "      <td>1/3/2012</td>\n",
              "      <td>325.25</td>\n",
              "      <td>332.83</td>\n",
              "      <td>324.97</td>\n",
              "      <td>663.59</td>\n",
              "      <td>7,380,500</td>\n",
              "    </tr>\n",
              "    <tr>\n",
              "      <th>1</th>\n",
              "      <td>1/4/2012</td>\n",
              "      <td>331.27</td>\n",
              "      <td>333.87</td>\n",
              "      <td>329.08</td>\n",
              "      <td>666.45</td>\n",
              "      <td>5,749,400</td>\n",
              "    </tr>\n",
              "    <tr>\n",
              "      <th>2</th>\n",
              "      <td>1/5/2012</td>\n",
              "      <td>329.83</td>\n",
              "      <td>330.75</td>\n",
              "      <td>326.89</td>\n",
              "      <td>657.21</td>\n",
              "      <td>6,590,300</td>\n",
              "    </tr>\n",
              "    <tr>\n",
              "      <th>3</th>\n",
              "      <td>1/6/2012</td>\n",
              "      <td>328.34</td>\n",
              "      <td>328.77</td>\n",
              "      <td>323.68</td>\n",
              "      <td>648.24</td>\n",
              "      <td>5,405,900</td>\n",
              "    </tr>\n",
              "    <tr>\n",
              "      <th>4</th>\n",
              "      <td>1/9/2012</td>\n",
              "      <td>322.04</td>\n",
              "      <td>322.29</td>\n",
              "      <td>309.46</td>\n",
              "      <td>620.76</td>\n",
              "      <td>11,688,800</td>\n",
              "    </tr>\n",
              "  </tbody>\n",
              "</table>\n",
              "</div>\n",
              "      <button class=\"colab-df-convert\" onclick=\"convertToInteractive('df-25f10587-05d3-4a3a-9ddb-90393631b234')\"\n",
              "              title=\"Convert this dataframe to an interactive table.\"\n",
              "              style=\"display:none;\">\n",
              "        \n",
              "  <svg xmlns=\"http://www.w3.org/2000/svg\" height=\"24px\"viewBox=\"0 0 24 24\"\n",
              "       width=\"24px\">\n",
              "    <path d=\"M0 0h24v24H0V0z\" fill=\"none\"/>\n",
              "    <path d=\"M18.56 5.44l.94 2.06.94-2.06 2.06-.94-2.06-.94-.94-2.06-.94 2.06-2.06.94zm-11 1L8.5 8.5l.94-2.06 2.06-.94-2.06-.94L8.5 2.5l-.94 2.06-2.06.94zm10 10l.94 2.06.94-2.06 2.06-.94-2.06-.94-.94-2.06-.94 2.06-2.06.94z\"/><path d=\"M17.41 7.96l-1.37-1.37c-.4-.4-.92-.59-1.43-.59-.52 0-1.04.2-1.43.59L10.3 9.45l-7.72 7.72c-.78.78-.78 2.05 0 2.83L4 21.41c.39.39.9.59 1.41.59.51 0 1.02-.2 1.41-.59l7.78-7.78 2.81-2.81c.8-.78.8-2.07 0-2.86zM5.41 20L4 18.59l7.72-7.72 1.47 1.35L5.41 20z\"/>\n",
              "  </svg>\n",
              "      </button>\n",
              "      \n",
              "  <style>\n",
              "    .colab-df-container {\n",
              "      display:flex;\n",
              "      flex-wrap:wrap;\n",
              "      gap: 12px;\n",
              "    }\n",
              "\n",
              "    .colab-df-convert {\n",
              "      background-color: #E8F0FE;\n",
              "      border: none;\n",
              "      border-radius: 50%;\n",
              "      cursor: pointer;\n",
              "      display: none;\n",
              "      fill: #1967D2;\n",
              "      height: 32px;\n",
              "      padding: 0 0 0 0;\n",
              "      width: 32px;\n",
              "    }\n",
              "\n",
              "    .colab-df-convert:hover {\n",
              "      background-color: #E2EBFA;\n",
              "      box-shadow: 0px 1px 2px rgba(60, 64, 67, 0.3), 0px 1px 3px 1px rgba(60, 64, 67, 0.15);\n",
              "      fill: #174EA6;\n",
              "    }\n",
              "\n",
              "    [theme=dark] .colab-df-convert {\n",
              "      background-color: #3B4455;\n",
              "      fill: #D2E3FC;\n",
              "    }\n",
              "\n",
              "    [theme=dark] .colab-df-convert:hover {\n",
              "      background-color: #434B5C;\n",
              "      box-shadow: 0px 1px 3px 1px rgba(0, 0, 0, 0.15);\n",
              "      filter: drop-shadow(0px 1px 2px rgba(0, 0, 0, 0.3));\n",
              "      fill: #FFFFFF;\n",
              "    }\n",
              "  </style>\n",
              "\n",
              "      <script>\n",
              "        const buttonEl =\n",
              "          document.querySelector('#df-25f10587-05d3-4a3a-9ddb-90393631b234 button.colab-df-convert');\n",
              "        buttonEl.style.display =\n",
              "          google.colab.kernel.accessAllowed ? 'block' : 'none';\n",
              "\n",
              "        async function convertToInteractive(key) {\n",
              "          const element = document.querySelector('#df-25f10587-05d3-4a3a-9ddb-90393631b234');\n",
              "          const dataTable =\n",
              "            await google.colab.kernel.invokeFunction('convertToInteractive',\n",
              "                                                     [key], {});\n",
              "          if (!dataTable) return;\n",
              "\n",
              "          const docLinkHtml = 'Like what you see? Visit the ' +\n",
              "            '<a target=\"_blank\" href=https://colab.research.google.com/notebooks/data_table.ipynb>data table notebook</a>'\n",
              "            + ' to learn more about interactive tables.';\n",
              "          element.innerHTML = '';\n",
              "          dataTable['output_type'] = 'display_data';\n",
              "          await google.colab.output.renderOutput(dataTable, element);\n",
              "          const docLink = document.createElement('div');\n",
              "          docLink.innerHTML = docLinkHtml;\n",
              "          element.appendChild(docLink);\n",
              "        }\n",
              "      </script>\n",
              "    </div>\n",
              "  </div>\n",
              "  "
            ]
          },
          "metadata": {},
          "execution_count": 127
        }
      ]
    },
    {
      "cell_type": "code",
      "source": [
        "training_data.describe()"
      ],
      "metadata": {
        "colab": {
          "base_uri": "https://localhost:8080/",
          "height": 300
        },
        "id": "NcN1qS75nA_e",
        "outputId": "f18dc2c1-91d2-4bdb-c117-e517cbacef28"
      },
      "execution_count": 128,
      "outputs": [
        {
          "output_type": "execute_result",
          "data": {
            "text/plain": [
              "              Open         High          Low\n",
              "count  1006.000000  1006.000000  1006.000000\n",
              "mean    481.099791   484.889722   476.756113\n",
              "std     121.355004   122.329345   119.965669\n",
              "min     279.120000   281.210000   277.220000\n",
              "25%     370.937500   376.482500   368.780000\n",
              "50%     517.930000   523.075000   513.620000\n",
              "75%     563.692500   568.875000   558.235000\n",
              "max     776.600000   779.980000   766.900000"
            ],
            "text/html": [
              "\n",
              "  <div id=\"df-b475a9f9-ebe1-418f-986e-010b255817d0\">\n",
              "    <div class=\"colab-df-container\">\n",
              "      <div>\n",
              "<style scoped>\n",
              "    .dataframe tbody tr th:only-of-type {\n",
              "        vertical-align: middle;\n",
              "    }\n",
              "\n",
              "    .dataframe tbody tr th {\n",
              "        vertical-align: top;\n",
              "    }\n",
              "\n",
              "    .dataframe thead th {\n",
              "        text-align: right;\n",
              "    }\n",
              "</style>\n",
              "<table border=\"1\" class=\"dataframe\">\n",
              "  <thead>\n",
              "    <tr style=\"text-align: right;\">\n",
              "      <th></th>\n",
              "      <th>Open</th>\n",
              "      <th>High</th>\n",
              "      <th>Low</th>\n",
              "    </tr>\n",
              "  </thead>\n",
              "  <tbody>\n",
              "    <tr>\n",
              "      <th>count</th>\n",
              "      <td>1006.000000</td>\n",
              "      <td>1006.000000</td>\n",
              "      <td>1006.000000</td>\n",
              "    </tr>\n",
              "    <tr>\n",
              "      <th>mean</th>\n",
              "      <td>481.099791</td>\n",
              "      <td>484.889722</td>\n",
              "      <td>476.756113</td>\n",
              "    </tr>\n",
              "    <tr>\n",
              "      <th>std</th>\n",
              "      <td>121.355004</td>\n",
              "      <td>122.329345</td>\n",
              "      <td>119.965669</td>\n",
              "    </tr>\n",
              "    <tr>\n",
              "      <th>min</th>\n",
              "      <td>279.120000</td>\n",
              "      <td>281.210000</td>\n",
              "      <td>277.220000</td>\n",
              "    </tr>\n",
              "    <tr>\n",
              "      <th>25%</th>\n",
              "      <td>370.937500</td>\n",
              "      <td>376.482500</td>\n",
              "      <td>368.780000</td>\n",
              "    </tr>\n",
              "    <tr>\n",
              "      <th>50%</th>\n",
              "      <td>517.930000</td>\n",
              "      <td>523.075000</td>\n",
              "      <td>513.620000</td>\n",
              "    </tr>\n",
              "    <tr>\n",
              "      <th>75%</th>\n",
              "      <td>563.692500</td>\n",
              "      <td>568.875000</td>\n",
              "      <td>558.235000</td>\n",
              "    </tr>\n",
              "    <tr>\n",
              "      <th>max</th>\n",
              "      <td>776.600000</td>\n",
              "      <td>779.980000</td>\n",
              "      <td>766.900000</td>\n",
              "    </tr>\n",
              "  </tbody>\n",
              "</table>\n",
              "</div>\n",
              "      <button class=\"colab-df-convert\" onclick=\"convertToInteractive('df-b475a9f9-ebe1-418f-986e-010b255817d0')\"\n",
              "              title=\"Convert this dataframe to an interactive table.\"\n",
              "              style=\"display:none;\">\n",
              "        \n",
              "  <svg xmlns=\"http://www.w3.org/2000/svg\" height=\"24px\"viewBox=\"0 0 24 24\"\n",
              "       width=\"24px\">\n",
              "    <path d=\"M0 0h24v24H0V0z\" fill=\"none\"/>\n",
              "    <path d=\"M18.56 5.44l.94 2.06.94-2.06 2.06-.94-2.06-.94-.94-2.06-.94 2.06-2.06.94zm-11 1L8.5 8.5l.94-2.06 2.06-.94-2.06-.94L8.5 2.5l-.94 2.06-2.06.94zm10 10l.94 2.06.94-2.06 2.06-.94-2.06-.94-.94-2.06-.94 2.06-2.06.94z\"/><path d=\"M17.41 7.96l-1.37-1.37c-.4-.4-.92-.59-1.43-.59-.52 0-1.04.2-1.43.59L10.3 9.45l-7.72 7.72c-.78.78-.78 2.05 0 2.83L4 21.41c.39.39.9.59 1.41.59.51 0 1.02-.2 1.41-.59l7.78-7.78 2.81-2.81c.8-.78.8-2.07 0-2.86zM5.41 20L4 18.59l7.72-7.72 1.47 1.35L5.41 20z\"/>\n",
              "  </svg>\n",
              "      </button>\n",
              "      \n",
              "  <style>\n",
              "    .colab-df-container {\n",
              "      display:flex;\n",
              "      flex-wrap:wrap;\n",
              "      gap: 12px;\n",
              "    }\n",
              "\n",
              "    .colab-df-convert {\n",
              "      background-color: #E8F0FE;\n",
              "      border: none;\n",
              "      border-radius: 50%;\n",
              "      cursor: pointer;\n",
              "      display: none;\n",
              "      fill: #1967D2;\n",
              "      height: 32px;\n",
              "      padding: 0 0 0 0;\n",
              "      width: 32px;\n",
              "    }\n",
              "\n",
              "    .colab-df-convert:hover {\n",
              "      background-color: #E2EBFA;\n",
              "      box-shadow: 0px 1px 2px rgba(60, 64, 67, 0.3), 0px 1px 3px 1px rgba(60, 64, 67, 0.15);\n",
              "      fill: #174EA6;\n",
              "    }\n",
              "\n",
              "    [theme=dark] .colab-df-convert {\n",
              "      background-color: #3B4455;\n",
              "      fill: #D2E3FC;\n",
              "    }\n",
              "\n",
              "    [theme=dark] .colab-df-convert:hover {\n",
              "      background-color: #434B5C;\n",
              "      box-shadow: 0px 1px 3px 1px rgba(0, 0, 0, 0.15);\n",
              "      filter: drop-shadow(0px 1px 2px rgba(0, 0, 0, 0.3));\n",
              "      fill: #FFFFFF;\n",
              "    }\n",
              "  </style>\n",
              "\n",
              "      <script>\n",
              "        const buttonEl =\n",
              "          document.querySelector('#df-b475a9f9-ebe1-418f-986e-010b255817d0 button.colab-df-convert');\n",
              "        buttonEl.style.display =\n",
              "          google.colab.kernel.accessAllowed ? 'block' : 'none';\n",
              "\n",
              "        async function convertToInteractive(key) {\n",
              "          const element = document.querySelector('#df-b475a9f9-ebe1-418f-986e-010b255817d0');\n",
              "          const dataTable =\n",
              "            await google.colab.kernel.invokeFunction('convertToInteractive',\n",
              "                                                     [key], {});\n",
              "          if (!dataTable) return;\n",
              "\n",
              "          const docLinkHtml = 'Like what you see? Visit the ' +\n",
              "            '<a target=\"_blank\" href=https://colab.research.google.com/notebooks/data_table.ipynb>data table notebook</a>'\n",
              "            + ' to learn more about interactive tables.';\n",
              "          element.innerHTML = '';\n",
              "          dataTable['output_type'] = 'display_data';\n",
              "          await google.colab.output.renderOutput(dataTable, element);\n",
              "          const docLink = document.createElement('div');\n",
              "          docLink.innerHTML = docLinkHtml;\n",
              "          element.appendChild(docLink);\n",
              "        }\n",
              "      </script>\n",
              "    </div>\n",
              "  </div>\n",
              "  "
            ]
          },
          "metadata": {},
          "execution_count": 128
        }
      ]
    },
    {
      "cell_type": "markdown",
      "source": [
        "Extracting the column that has the data of the opening stock price."
      ],
      "metadata": {
        "id": "jlY9xFhwDqsX"
      }
    },
    {
      "cell_type": "code",
      "source": [
        "training_data = training_data.iloc[:, 1:2]\n",
        "training_data.shape"
      ],
      "metadata": {
        "colab": {
          "base_uri": "https://localhost:8080/"
        },
        "id": "LumCnh39nBCF",
        "outputId": "017132ab-6315-4a20-ab28-0aa61e23973d"
      },
      "execution_count": 129,
      "outputs": [
        {
          "output_type": "execute_result",
          "data": {
            "text/plain": [
              "(1006, 1)"
            ]
          },
          "metadata": {},
          "execution_count": 129
        }
      ]
    },
    {
      "cell_type": "code",
      "source": [
        "training_data.head()"
      ],
      "metadata": {
        "colab": {
          "base_uri": "https://localhost:8080/",
          "height": 206
        },
        "id": "-9VQoLQunBEJ",
        "outputId": "6bd7fccc-5420-417c-ba9f-b17491e3876f"
      },
      "execution_count": 130,
      "outputs": [
        {
          "output_type": "execute_result",
          "data": {
            "text/plain": [
              "     Open\n",
              "0  325.25\n",
              "1  331.27\n",
              "2  329.83\n",
              "3  328.34\n",
              "4  322.04"
            ],
            "text/html": [
              "\n",
              "  <div id=\"df-eb0bdaeb-6530-44d3-8967-a803b978447f\">\n",
              "    <div class=\"colab-df-container\">\n",
              "      <div>\n",
              "<style scoped>\n",
              "    .dataframe tbody tr th:only-of-type {\n",
              "        vertical-align: middle;\n",
              "    }\n",
              "\n",
              "    .dataframe tbody tr th {\n",
              "        vertical-align: top;\n",
              "    }\n",
              "\n",
              "    .dataframe thead th {\n",
              "        text-align: right;\n",
              "    }\n",
              "</style>\n",
              "<table border=\"1\" class=\"dataframe\">\n",
              "  <thead>\n",
              "    <tr style=\"text-align: right;\">\n",
              "      <th></th>\n",
              "      <th>Open</th>\n",
              "    </tr>\n",
              "  </thead>\n",
              "  <tbody>\n",
              "    <tr>\n",
              "      <th>0</th>\n",
              "      <td>325.25</td>\n",
              "    </tr>\n",
              "    <tr>\n",
              "      <th>1</th>\n",
              "      <td>331.27</td>\n",
              "    </tr>\n",
              "    <tr>\n",
              "      <th>2</th>\n",
              "      <td>329.83</td>\n",
              "    </tr>\n",
              "    <tr>\n",
              "      <th>3</th>\n",
              "      <td>328.34</td>\n",
              "    </tr>\n",
              "    <tr>\n",
              "      <th>4</th>\n",
              "      <td>322.04</td>\n",
              "    </tr>\n",
              "  </tbody>\n",
              "</table>\n",
              "</div>\n",
              "      <button class=\"colab-df-convert\" onclick=\"convertToInteractive('df-eb0bdaeb-6530-44d3-8967-a803b978447f')\"\n",
              "              title=\"Convert this dataframe to an interactive table.\"\n",
              "              style=\"display:none;\">\n",
              "        \n",
              "  <svg xmlns=\"http://www.w3.org/2000/svg\" height=\"24px\"viewBox=\"0 0 24 24\"\n",
              "       width=\"24px\">\n",
              "    <path d=\"M0 0h24v24H0V0z\" fill=\"none\"/>\n",
              "    <path d=\"M18.56 5.44l.94 2.06.94-2.06 2.06-.94-2.06-.94-.94-2.06-.94 2.06-2.06.94zm-11 1L8.5 8.5l.94-2.06 2.06-.94-2.06-.94L8.5 2.5l-.94 2.06-2.06.94zm10 10l.94 2.06.94-2.06 2.06-.94-2.06-.94-.94-2.06-.94 2.06-2.06.94z\"/><path d=\"M17.41 7.96l-1.37-1.37c-.4-.4-.92-.59-1.43-.59-.52 0-1.04.2-1.43.59L10.3 9.45l-7.72 7.72c-.78.78-.78 2.05 0 2.83L4 21.41c.39.39.9.59 1.41.59.51 0 1.02-.2 1.41-.59l7.78-7.78 2.81-2.81c.8-.78.8-2.07 0-2.86zM5.41 20L4 18.59l7.72-7.72 1.47 1.35L5.41 20z\"/>\n",
              "  </svg>\n",
              "      </button>\n",
              "      \n",
              "  <style>\n",
              "    .colab-df-container {\n",
              "      display:flex;\n",
              "      flex-wrap:wrap;\n",
              "      gap: 12px;\n",
              "    }\n",
              "\n",
              "    .colab-df-convert {\n",
              "      background-color: #E8F0FE;\n",
              "      border: none;\n",
              "      border-radius: 50%;\n",
              "      cursor: pointer;\n",
              "      display: none;\n",
              "      fill: #1967D2;\n",
              "      height: 32px;\n",
              "      padding: 0 0 0 0;\n",
              "      width: 32px;\n",
              "    }\n",
              "\n",
              "    .colab-df-convert:hover {\n",
              "      background-color: #E2EBFA;\n",
              "      box-shadow: 0px 1px 2px rgba(60, 64, 67, 0.3), 0px 1px 3px 1px rgba(60, 64, 67, 0.15);\n",
              "      fill: #174EA6;\n",
              "    }\n",
              "\n",
              "    [theme=dark] .colab-df-convert {\n",
              "      background-color: #3B4455;\n",
              "      fill: #D2E3FC;\n",
              "    }\n",
              "\n",
              "    [theme=dark] .colab-df-convert:hover {\n",
              "      background-color: #434B5C;\n",
              "      box-shadow: 0px 1px 3px 1px rgba(0, 0, 0, 0.15);\n",
              "      filter: drop-shadow(0px 1px 2px rgba(0, 0, 0, 0.3));\n",
              "      fill: #FFFFFF;\n",
              "    }\n",
              "  </style>\n",
              "\n",
              "      <script>\n",
              "        const buttonEl =\n",
              "          document.querySelector('#df-eb0bdaeb-6530-44d3-8967-a803b978447f button.colab-df-convert');\n",
              "        buttonEl.style.display =\n",
              "          google.colab.kernel.accessAllowed ? 'block' : 'none';\n",
              "\n",
              "        async function convertToInteractive(key) {\n",
              "          const element = document.querySelector('#df-eb0bdaeb-6530-44d3-8967-a803b978447f');\n",
              "          const dataTable =\n",
              "            await google.colab.kernel.invokeFunction('convertToInteractive',\n",
              "                                                     [key], {});\n",
              "          if (!dataTable) return;\n",
              "\n",
              "          const docLinkHtml = 'Like what you see? Visit the ' +\n",
              "            '<a target=\"_blank\" href=https://colab.research.google.com/notebooks/data_table.ipynb>data table notebook</a>'\n",
              "            + ' to learn more about interactive tables.';\n",
              "          element.innerHTML = '';\n",
              "          dataTable['output_type'] = 'display_data';\n",
              "          await google.colab.output.renderOutput(dataTable, element);\n",
              "          const docLink = document.createElement('div');\n",
              "          docLink.innerHTML = docLinkHtml;\n",
              "          element.appendChild(docLink);\n",
              "        }\n",
              "      </script>\n",
              "    </div>\n",
              "  </div>\n",
              "  "
            ]
          },
          "metadata": {},
          "execution_count": 130
        }
      ]
    },
    {
      "cell_type": "markdown",
      "source": [
        " Normalize the training data between [0,1]\n",
        "the fit method, when applied to the training dataset, learns the model parameters (for example, mean and standard deviation).\n",
        "We then need to apply the transform method on the training dataset to get the transformed (scaled) training dataset.\n",
        "Then plotting the data using the matplotlib library."
      ],
      "metadata": {
        "id": "h_ovDiOID1hm"
      }
    },
    {
      "cell_type": "code",
      "source": [
        "mm = MinMaxScaler(feature_range = (0, 1))\n",
        "training_data_scaled = mm.fit_transform(training_data)\n",
        "training_data_scaled.shape"
      ],
      "metadata": {
        "colab": {
          "base_uri": "https://localhost:8080/"
        },
        "id": "f1kW1KAbnBIl",
        "outputId": "0529dd60-b935-4258-b59f-0cb1d1a59ad6"
      },
      "execution_count": 131,
      "outputs": [
        {
          "output_type": "execute_result",
          "data": {
            "text/plain": [
              "(1006, 1)"
            ]
          },
          "metadata": {},
          "execution_count": 131
        }
      ]
    },
    {
      "cell_type": "code",
      "source": [
        "plt.figure(figsize=(10,5))\n",
        "plt.plot(training_data_scaled);\n",
        "plt.title('Google Stock Price Prediction')\n",
        "plt.xlabel('Time')\n",
        "plt.ylabel('Google Stock Price')\n",
        "plt.show()"
      ],
      "metadata": {
        "colab": {
          "base_uri": "https://localhost:8080/",
          "height": 487
        },
        "id": "8jaSk_GinBKr",
        "outputId": "a0763ed7-c809-40b3-dadb-15fcbe671dbd"
      },
      "execution_count": 132,
      "outputs": [
        {
          "output_type": "display_data",
          "data": {
            "text/plain": [
              "<Figure size 1000x500 with 1 Axes>"
            ],
            "image/png": "[encoded data removed]"
          },
          "metadata": {}
        }
      ]
    },
    {
      "cell_type": "markdown",
      "source": [
        "For training the model in this case, we are utilising the RNN network. The x_train and y_train must therefore be reshaped because they need the same architecture in order to process RNN."
      ],
      "metadata": {
        "id": "RF4vCZdRFO19"
      }
    },
    {
      "cell_type": "code",
      "source": [
        "x_train = training_data_scaled[59:1005]\n",
        "y_train = training_data_scaled[60:1006]\n",
        "print(x_train.shape)\n",
        "print(y_train.shape)"
      ],
      "metadata": {
        "colab": {
          "base_uri": "https://localhost:8080/"
        },
        "id": "Fg8QW6_XnBMx",
        "outputId": "e52a3403-2d11-4b34-ff2a-55f0a31a7cfa"
      },
      "execution_count": 109,
      "outputs": [
        {
          "output_type": "stream",
          "name": "stdout",
          "text": [
            "(946, 1)\n",
            "(946, 1)\n"
          ]
        }
      ]
    },
    {
      "cell_type": "code",
      "source": [
        "x_train = np.reshape(x_train, (946,1,1))\n",
        "print(x_train.shape)"
      ],
      "metadata": {
        "colab": {
          "base_uri": "https://localhost:8080/"
        },
        "id": "xMJjdW_enBO1",
        "outputId": "fedefff0-ea71-4c1c-8d0d-4759e2b53d6e"
      },
      "execution_count": 135,
      "outputs": [
        {
          "output_type": "stream",
          "name": "stdout",
          "text": [
            "(946, 1, 1)\n"
          ]
        }
      ]
    },
    {
      "cell_type": "code",
      "source": [
        "regressor = Sequential()\n",
        "#first hidden layer\n",
        "regressor.add(LSTM(units = 50,return_sequences = True,input_shape = (x_train.shape[1],1)))\n",
        "regressor.add(Dropout(0.2))\n",
        "#second hidden layer\n",
        "regressor.add(LSTM(units = 50,return_sequences = True))\n",
        "regressor.add(Dropout(0.2))\n",
        "#third hidden layer\n",
        "regressor.add(LSTM(units = 50,return_sequences = True))\n",
        "regressor.add(Dropout(0.2))\n",
        "#fourth hidden layer\n",
        "regressor.add(LSTM(units = 50))\n",
        "regressor.add(Dropout(0.2))\n",
        "#Dense layer to get final output\n",
        "regressor.add(Dense(units = 1))\n"
      ],
      "metadata": {
        "id": "zsaTFYjlnikq"
      },
      "execution_count": 136,
      "outputs": []
    },
    {
      "cell_type": "markdown",
      "source": [
        "ADAM optimization algorithm is used and a mean squared error loss function is optimized. This will be the same metric that we will use to evaluate the performance of the model to find the global minimum error."
      ],
      "metadata": {
        "id": "7pZ_SQDyHsb_"
      }
    },
    {
      "cell_type": "code",
      "source": [
        "regressor.compile(optimizer = 'adam',loss = 'mean_squared_error')\n",
        "regressor.fit(x_train,y_train,epochs = 100, batch_size = 32)"
      ],
      "metadata": {
        "colab": {
          "base_uri": "https://localhost:8080/"
        },
        "id": "i6DZwqaLnuGs",
        "outputId": "0fdf6b04-c723-48d0-c4bb-e1d8c19d8b1b"
      },
      "execution_count": 137,
      "outputs": [
        {
          "output_type": "stream",
          "name": "stdout",
          "text": [
            "Epoch 1/100\n",
            "30/30 [==============================] - 9s 8ms/step - loss: 0.1810\n",
            "Epoch 2/100\n",
            "30/30 [==============================] - 0s 8ms/step - loss: 0.0502\n",
            "Epoch 3/100\n",
            "30/30 [==============================] - 0s 8ms/step - loss: 0.0288\n",
            "Epoch 4/100\n",
            "30/30 [==============================] - 0s 9ms/step - loss: 0.0130\n",
            "Epoch 5/100\n",
            "30/30 [==============================] - 0s 9ms/step - loss: 0.0067\n",
            "Epoch 6/100\n",
            "30/30 [==============================] - 0s 9ms/step - loss: 0.0076\n",
            "Epoch 7/100\n",
            "30/30 [==============================] - 0s 9ms/step - loss: 0.0049\n",
            "Epoch 8/100\n",
            "30/30 [==============================] - 0s 11ms/step - loss: 0.0053\n",
            "Epoch 9/100\n",
            "30/30 [==============================] - 0s 10ms/step - loss: 0.0043\n",
            "Epoch 10/100\n",
            "30/30 [==============================] - 0s 10ms/step - loss: 0.0043\n",
            "Epoch 11/100\n",
            "30/30 [==============================] - 0s 11ms/step - loss: 0.0043\n",
            "Epoch 12/100\n",
            "30/30 [==============================] - 0s 15ms/step - loss: 0.0033\n",
            "Epoch 13/100\n",
            "30/30 [==============================] - 0s 15ms/step - loss: 0.0035\n",
            "Epoch 14/100\n",
            "30/30 [==============================] - 0s 15ms/step - loss: 0.0033\n",
            "Epoch 15/100\n",
            "30/30 [==============================] - 0s 15ms/step - loss: 0.0030\n",
            "Epoch 16/100\n",
            "30/30 [==============================] - 0s 15ms/step - loss: 0.0029\n",
            "Epoch 17/100\n",
            "30/30 [==============================] - 0s 15ms/step - loss: 0.0031\n",
            "Epoch 18/100\n",
            "30/30 [==============================] - 0s 13ms/step - loss: 0.0028\n",
            "Epoch 19/100\n",
            "30/30 [==============================] - 0s 10ms/step - loss: 0.0027\n",
            "Epoch 20/100\n",
            "30/30 [==============================] - 0s 10ms/step - loss: 0.0026\n",
            "Epoch 21/100\n",
            "30/30 [==============================] - 0s 10ms/step - loss: 0.0025\n",
            "Epoch 22/100\n",
            "30/30 [==============================] - 0s 9ms/step - loss: 0.0025\n",
            "Epoch 23/100\n",
            "30/30 [==============================] - 0s 8ms/step - loss: 0.0025\n",
            "Epoch 24/100\n",
            "30/30 [==============================] - 0s 9ms/step - loss: 0.0027\n",
            "Epoch 25/100\n",
            "30/30 [==============================] - 0s 9ms/step - loss: 0.0025\n",
            "Epoch 26/100\n",
            "30/30 [==============================] - 0s 9ms/step - loss: 0.0024\n",
            "Epoch 27/100\n",
            "30/30 [==============================] - 0s 8ms/step - loss: 0.0026\n",
            "Epoch 28/100\n",
            "30/30 [==============================] - 0s 8ms/step - loss: 0.0025\n",
            "Epoch 29/100\n",
            "30/30 [==============================] - 0s 12ms/step - loss: 0.0025\n",
            "Epoch 30/100\n",
            "30/30 [==============================] - 0s 12ms/step - loss: 0.0023\n",
            "Epoch 31/100\n",
            "30/30 [==============================] - 0s 11ms/step - loss: 0.0022\n",
            "Epoch 32/100\n",
            "30/30 [==============================] - 0s 9ms/step - loss: 0.0020\n",
            "Epoch 33/100\n",
            "30/30 [==============================] - 0s 10ms/step - loss: 0.0020\n",
            "Epoch 34/100\n",
            "30/30 [==============================] - 0s 9ms/step - loss: 0.0022\n",
            "Epoch 35/100\n",
            "30/30 [==============================] - 0s 10ms/step - loss: 0.0023\n",
            "Epoch 36/100\n",
            "30/30 [==============================] - 0s 11ms/step - loss: 0.0024\n",
            "Epoch 37/100\n",
            "30/30 [==============================] - 0s 10ms/step - loss: 0.0021\n",
            "Epoch 38/100\n",
            "30/30 [==============================] - 0s 11ms/step - loss: 0.0022\n",
            "Epoch 39/100\n",
            "30/30 [==============================] - 0s 9ms/step - loss: 0.0021\n",
            "Epoch 40/100\n",
            "30/30 [==============================] - 0s 9ms/step - loss: 0.0019\n",
            "Epoch 41/100\n",
            "30/30 [==============================] - 0s 8ms/step - loss: 0.0020\n",
            "Epoch 42/100\n",
            "30/30 [==============================] - 0s 10ms/step - loss: 0.0021\n",
            "Epoch 43/100\n",
            "30/30 [==============================] - 0s 10ms/step - loss: 0.0020\n",
            "Epoch 44/100\n",
            "30/30 [==============================] - 0s 10ms/step - loss: 0.0021\n",
            "Epoch 45/100\n",
            "30/30 [==============================] - 0s 10ms/step - loss: 0.0021\n",
            "Epoch 46/100\n",
            "30/30 [==============================] - 0s 11ms/step - loss: 0.0018\n",
            "Epoch 47/100\n",
            "30/30 [==============================] - 0s 10ms/step - loss: 0.0020\n",
            "Epoch 48/100\n",
            "30/30 [==============================] - 0s 10ms/step - loss: 0.0019\n",
            "Epoch 49/100\n",
            "30/30 [==============================] - 0s 11ms/step - loss: 0.0021\n",
            "Epoch 50/100\n",
            "30/30 [==============================] - 0s 11ms/step - loss: 0.0020\n",
            "Epoch 51/100\n",
            "30/30 [==============================] - 0s 12ms/step - loss: 0.0021\n",
            "Epoch 52/100\n",
            "30/30 [==============================] - 1s 17ms/step - loss: 0.0019\n",
            "Epoch 53/100\n",
            "30/30 [==============================] - 0s 14ms/step - loss: 0.0019\n",
            "Epoch 54/100\n",
            "30/30 [==============================] - 0s 15ms/step - loss: 0.0020\n",
            "Epoch 55/100\n",
            "30/30 [==============================] - 0s 15ms/step - loss: 0.0020\n",
            "Epoch 56/100\n",
            "30/30 [==============================] - 0s 16ms/step - loss: 0.0018\n",
            "Epoch 57/100\n",
            "30/30 [==============================] - 0s 15ms/step - loss: 0.0022\n",
            "Epoch 58/100\n",
            "30/30 [==============================] - 0s 10ms/step - loss: 0.0020\n",
            "Epoch 59/100\n",
            "30/30 [==============================] - 0s 9ms/step - loss: 0.0019\n",
            "Epoch 60/100\n",
            "30/30 [==============================] - 0s 9ms/step - loss: 0.0019\n",
            "Epoch 61/100\n",
            "30/30 [==============================] - 0s 9ms/step - loss: 0.0020\n",
            "Epoch 62/100\n",
            "30/30 [==============================] - 0s 9ms/step - loss: 0.0018\n",
            "Epoch 63/100\n",
            "30/30 [==============================] - 0s 9ms/step - loss: 0.0018\n",
            "Epoch 64/100\n",
            "30/30 [==============================] - 0s 9ms/step - loss: 0.0018\n",
            "Epoch 65/100\n",
            "30/30 [==============================] - 0s 9ms/step - loss: 0.0019\n",
            "Epoch 66/100\n",
            "30/30 [==============================] - 0s 10ms/step - loss: 0.0019\n",
            "Epoch 67/100\n",
            "30/30 [==============================] - 0s 11ms/step - loss: 0.0018\n",
            "Epoch 68/100\n",
            "30/30 [==============================] - 0s 11ms/step - loss: 0.0017\n",
            "Epoch 69/100\n",
            "30/30 [==============================] - 0s 10ms/step - loss: 0.0020\n",
            "Epoch 70/100\n",
            "30/30 [==============================] - 0s 9ms/step - loss: 0.0017\n",
            "Epoch 71/100\n",
            "30/30 [==============================] - 0s 9ms/step - loss: 0.0018\n",
            "Epoch 72/100\n",
            "30/30 [==============================] - 0s 9ms/step - loss: 0.0019\n",
            "Epoch 73/100\n",
            "30/30 [==============================] - 0s 12ms/step - loss: 0.0019\n",
            "Epoch 74/100\n",
            "30/30 [==============================] - 0s 12ms/step - loss: 0.0019\n",
            "Epoch 75/100\n",
            "30/30 [==============================] - 0s 12ms/step - loss: 0.0017\n",
            "Epoch 76/100\n",
            "30/30 [==============================] - 0s 11ms/step - loss: 0.0019\n",
            "Epoch 77/100\n",
            "30/30 [==============================] - 0s 11ms/step - loss: 0.0018\n",
            "Epoch 78/100\n",
            "30/30 [==============================] - 0s 11ms/step - loss: 0.0020\n",
            "Epoch 79/100\n",
            "30/30 [==============================] - 0s 11ms/step - loss: 0.0019\n",
            "Epoch 80/100\n",
            "30/30 [==============================] - 0s 10ms/step - loss: 0.0017\n",
            "Epoch 81/100\n",
            "30/30 [==============================] - 0s 10ms/step - loss: 0.0018\n",
            "Epoch 82/100\n",
            "30/30 [==============================] - 0s 10ms/step - loss: 0.0018\n",
            "Epoch 83/100\n",
            "30/30 [==============================] - 0s 10ms/step - loss: 0.0020\n",
            "Epoch 84/100\n",
            "30/30 [==============================] - 0s 10ms/step - loss: 0.0019\n",
            "Epoch 85/100\n",
            "30/30 [==============================] - 0s 9ms/step - loss: 0.0016\n",
            "Epoch 86/100\n",
            "30/30 [==============================] - 0s 9ms/step - loss: 0.0017\n",
            "Epoch 87/100\n",
            "30/30 [==============================] - 0s 8ms/step - loss: 0.0018\n",
            "Epoch 88/100\n",
            "30/30 [==============================] - 0s 9ms/step - loss: 0.0016\n",
            "Epoch 89/100\n",
            "30/30 [==============================] - 0s 10ms/step - loss: 0.0016\n",
            "Epoch 90/100\n",
            "30/30 [==============================] - 0s 10ms/step - loss: 0.0018\n",
            "Epoch 91/100\n",
            "30/30 [==============================] - 0s 15ms/step - loss: 0.0017\n",
            "Epoch 92/100\n",
            "30/30 [==============================] - 0s 13ms/step - loss: 0.0018\n",
            "Epoch 93/100\n",
            "30/30 [==============================] - 0s 13ms/step - loss: 0.0017\n",
            "Epoch 94/100\n",
            "30/30 [==============================] - 0s 12ms/step - loss: 0.0018\n",
            "Epoch 95/100\n",
            "30/30 [==============================] - 0s 12ms/step - loss: 0.0017\n",
            "Epoch 96/100\n",
            "30/30 [==============================] - 0s 13ms/step - loss: 0.0017\n",
            "Epoch 97/100\n",
            "30/30 [==============================] - 0s 14ms/step - loss: 0.0017\n",
            "Epoch 98/100\n",
            "30/30 [==============================] - 0s 14ms/step - loss: 0.0016\n",
            "Epoch 99/100\n",
            "30/30 [==============================] - 0s 10ms/step - loss: 0.0017\n",
            "Epoch 100/100\n",
            "30/30 [==============================] - 0s 11ms/step - loss: 0.0017\n"
          ]
        },
        {
          "output_type": "execute_result",
          "data": {
            "text/plain": [
              "<keras.callbacks.History at 0x7f6bf5285330>"
            ]
          },
          "metadata": {},
          "execution_count": 137
        }
      ]
    },
    {
      "cell_type": "code",
      "source": [
        "test_stock = test_data.iloc[:,1:2]\n",
        "len(test_stock)"
      ],
      "metadata": {
        "colab": {
          "base_uri": "https://localhost:8080/"
        },
        "id": "G7cmBp8bnuEW",
        "outputId": "36f0838f-255e-4656-f8e1-2b8db5431b8c"
      },
      "execution_count": 147,
      "outputs": [
        {
          "output_type": "execute_result",
          "data": {
            "text/plain": [
              "252"
            ]
          },
          "metadata": {},
          "execution_count": 147
        }
      ]
    },
    {
      "cell_type": "markdown",
      "source": [
        "Following the same steps as above, we will attempt to predict the stock prices for the test data after training the model on the training set. Visualizing the results by comparing the plots."
      ],
      "metadata": {
        "id": "MmxHzKetKj2L"
      }
    },
    {
      "cell_type": "code",
      "source": [
        "input_value = test_stock\n",
        "input_value = mm.transform(input_value)\n",
        "input_value = np.reshape(input_value, (252, 1, 1))"
      ],
      "metadata": {
        "id": "g8ACjT8HnuAL"
      },
      "execution_count": 149,
      "outputs": []
    },
    {
      "cell_type": "code",
      "source": [
        "prediction = regressor.predict(input_value)\n",
        "prediction = mm.inverse_transform(prediction)"
      ],
      "metadata": {
        "colab": {
          "base_uri": "https://localhost:8080/"
        },
        "id": "7BX7tB7unt4p",
        "outputId": "da803efc-225b-423b-afa4-caf97517ede6"
      },
      "execution_count": 150,
      "outputs": [
        {
          "output_type": "stream",
          "name": "stdout",
          "text": [
            "8/8 [==============================] - 0s 4ms/step\n"
          ]
        }
      ]
    },
    {
      "cell_type": "code",
      "source": [
        "plt.rcParams['figure.figsize'] = (15, 8)\n",
        "plt.plot(test_stock, color = 'red', label = 'Real  Stock ')\n",
        "plt.plot(prediction, color = 'green', label = 'Predicted  Stock ')\n",
        "plt.title('Final Stock Prediction')\n",
        "plt.xlabel('Time')\n",
        "plt.ylabel('Google Stock Price')\n",
        "plt.legend()\n",
        "plt.show()"
      ],
      "metadata": {
        "colab": {
          "base_uri": "https://localhost:8080/",
          "height": 593
        },
        "id": "4czb5G3ToDRI",
        "outputId": "10cbde9a-021d-4f68-c6d8-d596057f835c"
      },
      "execution_count": 151,
      "outputs": [
        {
          "output_type": "display_data",
          "data": {
            "text/plain": [
              "<Figure size 1500x800 with 1 Axes>"
            ],
            "image/png": "[encoded data removed]"
          },
          "metadata": {}
        }
      ]
    },
    {
      "cell_type": "code",
      "source": [],
      "metadata": {
        "id": "2gZ9t5m_plkK"
      },
      "execution_count": null,
      "outputs": []
    }
  ]
}